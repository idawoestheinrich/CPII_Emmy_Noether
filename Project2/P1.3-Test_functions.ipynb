{
 "cells": [
  {
   "cell_type": "markdown",
   "metadata": {},
   "source": [
    "## Project 1.3 - Test Functions \n",
    "\n",
    "Group: Emmy Noether\n",
    "\n",
    "Students: Janik Rausch (628334), Camilo Tello Breuer (633291), Ida Wöstheinreich (628428)"
   ]
  },
  {
   "cell_type": "code",
   "execution_count": 1,
   "metadata": {},
   "outputs": [
    {
     "data": {
      "text/plain": [
       "simulate_2D"
      ]
     },
     "metadata": {},
     "output_type": "display_data"
    }
   ],
   "source": [
    "using LinearAlgebra,Random,Printf,FFTW,JLD,Plots,LaTeXStrings,Colors\n",
    "include(\"Ground_state.jl\"); include(\"Evolution.jl\")"
   ]
  },
  {
   "cell_type": "markdown",
   "metadata": {},
   "source": [
    "### Two important properties\n",
    "- **The unitarity of integrators**\\\n",
    "    The exact evolution operator is a unitary operator, i.e. it satisfies \n",
    "    $$U_\\text{ex}^\\dagger U_\\text{ex} =1.$$\n",
    "    The unitarity property in the context of quantum mechanics is also often called $\\textit{conservation of total probability}$, because this property is equivalent to the statement that the norm of states is conserved by the time evolution. "
   ]
  },
  {
   "cell_type": "markdown",
   "metadata": {},
   "source": [
    "- **The energy conservation of integrators**\\\n",
    "    The exact evolution operator satisfies\n",
    "    $$U_\\text{ex}^\\dagger \\hat{H}U_\\text{ex} =\\hat{H}$$\n",
    "    This property implies that the expectation value of the energy does not depend on time, i.e. it is conserved."
   ]
  },
  {
   "cell_type": "code",
   "execution_count": null,
   "metadata": {},
   "outputs": [],
   "source": [
    "(N, μ, ϵ, τ, ψ_0, method[3])\n",
    "test_energy_conservation(N, μ, ϵ, τ, ψ_0, method[3])"
   ]
  },
  {
   "cell_type": "code",
   "execution_count": 16,
   "metadata": {},
   "outputs": [
    {
     "data": {
      "text/plain": [
       "test_energy_conservation (generic function with 2 methods)"
      ]
     },
     "metadata": {},
     "output_type": "display_data"
    }
   ],
   "source": [
    "function test_unitarity(N::Int, μ::Number, ϵ::Number, τ::Number, σ::Number , method::String; tol_cg::Number=1e-10, maxiters_cg::Int=10000)\n",
    "    integrator = choose_integrator(method; tol_cg, maxiters_cg)\n",
    "    m, k = [(1/ϵ,),(1/ϵ,0),(1/ϵ,0, 0)], [(1,),(1,0),(1,0,0)] # length(m) == ndims(n) \n",
    "    \n",
    "    function test_engine(shape::Tuple{Vararg{Int}}) \n",
    "        print(m[length(shape)], k[length(shape)])  \n",
    "        n = lattice(N, length(shape))\n",
    "        V = potential(μ, ϵ, n)\n",
    "        ψ_0 = wave_packet(n, m[length(shape)], σ, k[length(shape)])\n",
    "        norm_ψ_0 = norm(ψ_0)\n",
    "        ψ = integrator(μ, ϵ, ψ_0, V, τ)\n",
    "        norm_ψ = norm(ψ)\n",
    "        residue = abs(norm_ψ - norm_ψ_0) \n",
    "        @printf \"residue = %.3e\" residue \n",
    "    end\n",
    "    print(\"\\nConservation of the Norm of the states with the \"); print(method); print(\" method after a time step(τ = \"); print(τ) \n",
    "    print(\"): \\n\");\n",
    "    print(\"D=1: \"); test_engine((N,))\n",
    "    print(\"\\nD=2: \"); test_engine((N,N))\n",
    "    #print(\"\\nD=3: \"); test_engine((N,N,N)); print(\"\\n\"))   \n",
    "end \n",
    "function test_energy_conservation(N::Int, μ::Number, ϵ::Number, τ::Number, σ::Number, method::String; tol_cg::Number=1e-10, maxiters_cg::Int=10000)\n",
    "    integrator = choose_integrator(method; tol_cg, maxiters_cg)\n",
    "    m, k = [(1/ϵ,),(1/ϵ,0),(1/ϵ,0, 0)], [(1,),(1,0),(1,0,0)]\n",
    "    function test_engine(shape::Tuple{Vararg{Int}}) \n",
    "        print(m[length(shape)], k[length(shape)])  \n",
    "        n = lattice(N, length(shape))\n",
    "        V = potential(μ, ϵ, n)\n",
    "        ψ_0 = wave_packet(n, m[length(shape)], σ, k[length(shape)])\n",
    "        E_0,_ = energy_expectation(ψ_0, μ, ϵ)\n",
    "        ψ = integrator(μ, ϵ, ψ_0, V, τ)\n",
    "        E,_= energy_expectation(ψ, μ, ϵ)\n",
    "        residue = abs(E - E_0)\n",
    "        @printf \"residue = %.3e\" residue\n",
    "    end\n",
    "    print(\"\\nConservation of the energy expectation with the \"); print(method); print(\" method after a time step(τ = \"); print(τ)\n",
    "    print(\"): \\n\"); \n",
    "    print(\"D=1: \"); test_engine((N,))\n",
    "    print(\"\\nD=2: \"); test_engine((N,N))\n",
    "    #print(\"\\nD=3: \"); test_engine((N,N,N)); print(\"\\n\"))   \n",
    "end"
   ]
  },
  {
   "cell_type": "markdown",
   "metadata": {},
   "source": [
    "Not all approximated integrators preserve unitarity and energy conservation exactly.\n",
    "For example, the `Euler integrator` is neither unitary nor energy-preserving.  \n",
    "But both properties are recovered in the τ → 0 limit:"
   ]
  },
  {
   "cell_type": "code",
   "execution_count": 5,
   "metadata": {},
   "outputs": [
    {
     "name": "stdout",
     "output_type": "stream",
     "text": [
      "\n",
      "Conservation of the Norm of the states with the euler method after a time step(τ = 0.5): \n",
      "D=1: "
     ]
    },
    {
     "name": "stdout",
     "output_type": "stream",
     "text": [
      "residue = 1.093e+01\n",
      "D=2: "
     ]
    },
    {
     "name": "stdout",
     "output_type": "stream",
     "text": [
      "residue = 1.101e+01\n",
      "Conservation of the energy expectation with the euler method after a time step(τ = 0.5): \n",
      "D=1: residue = 3.440e+03\n",
      "D=2: residue = 3.509e+03"
     ]
    },
    {
     "name": "stdout",
     "output_type": "stream",
     "text": [
      "\n",
      "Conservation of the Norm of the states with the euler method after a time step(τ = 0.05): \n",
      "D=1: residue = 5.532e-01\n",
      "D=2: residue = 5.593e-01\n",
      "Conservation of the energy expectation with the euler method after a time step(τ = 0.05): \n",
      "D=1: residue = 3.440e+01\n",
      "D=2: residue = 3.509e+01\n",
      "Conservation of the Norm of the states with the euler method after a time step(τ = 0.0005): \n",
      "D=1: residue = 7.063e-05\n",
      "D=2: residue = 7.157e-05\n",
      "Conservation of the energy expectation with the euler method after a time step(τ = 0.0005): \n",
      "D=1: residue = 3.440e-03\n",
      "D=2: residue = 3.509e-03"
     ]
    }
   ],
   "source": [
    "N = 200\n",
    "τ = [0.5, 0.05, 0.0005]\n",
    "μ, ϵ = 20, sqrt(0.001)\n",
    "σ = 10\n",
    "method = [\"euler\", \"crank-nicolson\", \"strang-splitting\"]\n",
    "for t in τ\n",
    "    test_unitarity(N, μ, ϵ, t, σ, method[1])\n",
    "    test_energy_conservation(N, μ, ϵ, t, σ, method[1])\n",
    "end"
   ]
  },
  {
   "cell_type": "markdown",
   "metadata": {},
   "source": [
    "But the `Crank-Nicolson` integrator is unitary and conserves the energy. \n",
    "The residues for these method are consistently of order $10^{-10}$ or smaller for both tests.\n",
    "The size of the residues does not depend on the size of τ:"
   ]
  },
  {
   "cell_type": "code",
   "execution_count": 6,
   "metadata": {},
   "outputs": [
    {
     "name": "stdout",
     "output_type": "stream",
     "text": [
      "\n",
      "Conservation of the Norm of the states with the crank-nicolson method after a time step(τ = 0.5): \n",
      "D=1: "
     ]
    },
    {
     "name": "stdout",
     "output_type": "stream",
     "text": [
      "residue = 4.610e-12\n",
      "D=2: "
     ]
    },
    {
     "name": "stdout",
     "output_type": "stream",
     "text": [
      "residue = 3.377e-13\n",
      "Conservation of the energy expectation with the crank-nicolson method after a time step(τ = 0.5): \n",
      "D=1: residue = 5.906e-11"
     ]
    },
    {
     "name": "stdout",
     "output_type": "stream",
     "text": [
      "\n",
      "D=2: residue = 3.158e-12"
     ]
    },
    {
     "name": "stdout",
     "output_type": "stream",
     "text": [
      "\n",
      "Conservation of the Norm of the states with the crank-nicolson method after a time step(τ = 0.05): \n",
      "D=1: residue = 3.239e-12\n",
      "D=2: "
     ]
    },
    {
     "name": "stdout",
     "output_type": "stream",
     "text": [
      "residue = 4.456e-13\n",
      "Conservation of the energy expectation with the crank-nicolson method after a time step(τ = 0.05): \n",
      "D=1: residue = 2.859e-11\n",
      "D=2: residue = 1.489e-11"
     ]
    },
    {
     "name": "stdout",
     "output_type": "stream",
     "text": [
      "\n",
      "Conservation of the Norm of the states with the crank-nicolson method after a time step(τ = 0.0005): \n",
      "D=1: residue = 1.354e-14\n",
      "D=2: "
     ]
    },
    {
     "name": "stdout",
     "output_type": "stream",
     "text": [
      "residue = 3.275e-14\n",
      "Conservation of the energy expectation with the crank-nicolson method after a time step(τ = 0.0005): \n",
      "D=1: residue = 4.146e-12\n",
      "D=2: residue = 9.805e-13"
     ]
    }
   ],
   "source": [
    "N = 200\n",
    "τ = [0.5, 0.05, 0.0005]\n",
    "μ, ϵ = 20, sqrt(0.001)\n",
    "σ = 10\n",
    "method = [\"euler\", \"crank-nicolson\", \"strang-splitting\"]\n",
    "for t in τ\n",
    "    test_unitarity(N, μ, ϵ, t, σ, method[2])\n",
    "    test_energy_conservation(N, μ, ϵ, t, σ, method[2])\n",
    "end"
   ]
  },
  {
   "cell_type": "markdown",
   "metadata": {},
   "source": [
    "The `Strang-splitting` integrator is unitary and but does not conserve the energy. \n",
    "The residue for the unitary test are consistently of order $10^{-10}$ or smaller and\n",
    "their size does not depend on the size of τ. Energy conservation is recovered in the τ → 0 limit:"
   ]
  },
  {
   "cell_type": "code",
   "execution_count": 40,
   "metadata": {},
   "outputs": [
    {
     "data": {
      "text/plain": [
       "test_energy_conservation_ss (generic function with 3 methods)"
      ]
     },
     "metadata": {},
     "output_type": "display_data"
    }
   ],
   "source": [
    "function test_unitarity_ss(N::Int, n::Array, μ::Number, ϵ::Number, τ::Number, ψ_0::Array; method::String=\"strang-splitting\", tol_cg::Number=1e-10, maxiters_cg::Int=10000)\n",
    "    integrator = choose_integrator(method; tol_cg, maxiters_cg)\n",
    "    V = potential(μ, ϵ, n)\n",
    "    norm_ψ_0 = norm(ψ_0)\n",
    "    ψ = integrator(μ, ϵ, ψ_0, V, τ)\n",
    "    norm_ψ = norm(ψ)\n",
    "    residue = abs(norm_ψ - norm_ψ_0)\n",
    "    print(\"\\nThe difference between the norm of states before and after a time step(τ = \"); print(τ) \n",
    "    print(\") is \\n\"); print(residue)\n",
    "end \n",
    "function test_energy_conservation_ss(N::Int, n::Array, μ::Number, ϵ::Number, τ::Number, ψ_0::Array; method::String=\"strang-splitting\", tol_cg::Number=1e-10, maxiters_cg::Int=10000)\n",
    "    integrator = choose_integrator(method; tol_cg, maxiters_cg)\n",
    "    V = potential(μ, ϵ, n)\n",
    "    E_0,_ = energy_expectation(ψ_0, μ, ϵ)\n",
    "    ψ = integrator(μ, ϵ, ψ_0, V, τ)\n",
    "    E,_= energy_expectation(ψ, μ, ϵ)\n",
    "    residue = abs(E - E_0)\n",
    "    print(\"\\nThe difference between the energy expectation before and after a time step(τ = \"); print(τ)\n",
    "    print(\") is \\n\"); print(residue)\n",
    "end"
   ]
  },
  {
   "cell_type": "code",
   "execution_count": 42,
   "metadata": {},
   "outputs": [
    {
     "name": "stdout",
     "output_type": "stream",
     "text": [
      "\n",
      "D =1\n",
      "The difference between the norm of states before and after a time step(τ = 0.005) is \n",
      "2.220446049250313e-16\n",
      "The difference between the energy expectation before and after a time step(τ = 0.005) is \n",
      "1.3555811584353705e-6\n",
      "D =2\n"
     ]
    },
    {
     "name": "stdout",
     "output_type": "stream",
     "text": [
      "The difference between the norm of states before and after a time step(τ = 0.005) is \n",
      "0.0"
     ]
    },
    {
     "name": "stdout",
     "output_type": "stream",
     "text": [
      "\n",
      "The difference between the energy expectation before and after a time step(τ = 0.005) is \n",
      "1.3434529577693866e-6"
     ]
    }
   ],
   "source": [
    "N = 200\n",
    "τ = [0.5, 0.05, 0.0005]\n",
    "μ, ϵ = 20, sqrt(0.001)\n",
    "m, k = [(1/ϵ,),(1/ϵ,0)], [(1,),(1,0)]\n",
    "σ = 10\n",
    "for i in 1:2\n",
    "    print(\"\\nD =\"); print(i); print(\"\\n\");\n",
    "    n = lattice(N, i)\n",
    "    ψ_0 = wave_packet(lattice(N, i), m[i], σ, k[i])\n",
    "    for t in τ\n",
    "    test_unitarity_ss(N, n, μ, ϵ, t, ψ_0)\n",
    "    test_energy_conservation_ss(N, n, μ, ϵ, t, ψ_0)\n",
    "    end\n",
    "end    \n"
   ]
  },
  {
   "cell_type": "code",
   "execution_count": 24,
   "metadata": {},
   "outputs": [
    {
     "name": "stdout",
     "output_type": "stream",
     "text": [
      "\n",
      "Conservation of the Norm of the states with the strang-splitting method after a time step(τ = 0.5): \n",
      "D=1: (31.622776601683796,)(1,)"
     ]
    },
    {
     "ename": "ArgumentError",
     "evalue": "ArgumentError: FFTW plan applied to wrong-size array",
     "output_type": "error",
     "traceback": [
      "ArgumentError: FFTW plan applied to wrong-size array\n",
      "\n",
      "Stacktrace:\n",
      " [1] assert_applicable(p::FFTW.cFFTWPlan{ComplexF64, -1, false, 2, Tuple{Int64, Int64}}, X::Vector{ComplexF64})\n",
      "   @ FFTW ~/.julia/packages/FFTW/HfEjB/src/fft.jl:479\n",
      " [2] *(p::FFTW.cFFTWPlan{ComplexF64, -1, false, 2, Tuple{Int64, Int64}}, x::Vector{ComplexF64})\n",
      "   @ FFTW ~/.julia/packages/FFTW/HfEjB/src/fft.jl:827\n",
      " [3] strang_splitting(μ::Int64, ϵ::Float64, ψ::Vector{ComplexF64}, V::Vector{Float64}, τ::Float64, plan_fft::FFTW.cFFTWPlan{ComplexF64, -1, false, 2, Tuple{Int64, Int64}}, plan_ifft::AbstractFFTs.ScaledPlan{ComplexF64, FFTW.cFFTWPlan{ComplexF64, 1, false, 2, Tuple{Int64, Int64}}, Float64})\n",
      "   @ Main ~/Desktop/Computational Physics II/CPII_Emmy_Noether/Project2/Evolution.jl:93\n",
      " [4] (::var\"#43#46\"{AbstractFFTs.ScaledPlan{ComplexF64, FFTW.cFFTWPlan{ComplexF64, 1, false, 2, Tuple{Int64, Int64}}, Float64}, FFTW.cFFTWPlan{ComplexF64, -1, false, 2, Tuple{Int64, Int64}}})(μ::Int64, ϵ::Float64, ψ::Vector{ComplexF64}, V::Vector{Float64}, τ::Float64)\n",
      "   @ Main ~/Desktop/Computational Physics II/CPII_Emmy_Noether/Project2/Evolution.jl:118\n",
      " [5] (::var\"#test_engine#74\"{Int64, Int64, Float64, Float64, Int64, Vector{Tuple{Int64, Vararg{Int64}}}, Vector{Tuple{Float64, Vararg{Int64}}}, var\"#43#46\"{AbstractFFTs.ScaledPlan{ComplexF64, FFTW.cFFTWPlan{ComplexF64, 1, false, 2, Tuple{Int64, Int64}}, Float64}, FFTW.cFFTWPlan{ComplexF64, -1, false, 2, Tuple{Int64, Int64}}}})(shape::Tuple{Int64})\n",
      "   @ Main ~/Desktop/Computational Physics II/CPII_Emmy_Noether/Project2/P1.3-Test_functions.ipynb:11\n",
      " [6] test_unitarity(N::Int64, μ::Int64, ϵ::Float64, τ::Float64, σ::Int64, method::String; tol_cg::Float64, maxiters_cg::Int64)\n",
      "   @ Main ~/Desktop/Computational Physics II/CPII_Emmy_Noether/Project2/P1.3-Test_functions.ipynb:18\n",
      " [7] test_unitarity(N::Int64, μ::Int64, ϵ::Float64, τ::Float64, σ::Int64, method::String)\n",
      "   @ Main ~/Desktop/Computational Physics II/CPII_Emmy_Noether/Project2/P1.3-Test_functions.ipynb:1\n",
      " [8] top-level scope\n",
      "   @ ~/Desktop/Computational Physics II/CPII_Emmy_Noether/Project2/P1.3-Test_functions.ipynb:7"
     ]
    }
   ],
   "source": [
    "N = 200\n",
    "τ = [0.5, 0.05, 0.0005]\n",
    "μ, ϵ = 20, sqrt(0.001)\n",
    "σ = 10\n",
    "method = [\"euler\", \"crank-nicolson\", \"strang-splitting\"]\n",
    "for t in τ\n",
    "    test_unitarity(N, μ, ϵ, t, σ, method[3])\n",
    "    test_energy_conservation(N, μ, ϵ, t, σ, method[3])\n",
    "end"
   ]
  },
  {
   "cell_type": "markdown",
   "metadata": {},
   "source": [
    "\n",
    "\n",
    "The Crank-Nicolson is the only one that conserves energy while the other two integrators do not. \n",
    "The residue for these method is consistently of order $10^{-6}$ or smaller for the energy conservation test.\n",
    "Obviously both properties are recovered for all integrators in the τ → 0 limit."
   ]
  }
 ],
 "metadata": {
  "kernelspec": {
   "display_name": "Julia 1.9.3",
   "language": "julia",
   "name": "julia-1.9"
  },
  "language_info": {
   "file_extension": ".jl",
   "mimetype": "application/julia",
   "name": "julia",
   "version": "1.9.3"
  }
 },
 "nbformat": 4,
 "nbformat_minor": 2
}
