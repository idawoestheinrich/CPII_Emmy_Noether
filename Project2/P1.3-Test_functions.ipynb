{
 "cells": [
  {
   "cell_type": "markdown",
   "metadata": {},
   "source": [
    "## Project 1.3 - Test Functions \n",
    "\n",
    "Group: Emmy Noether\n",
    "\n",
    "Students: Janik Rausch (628334), Camilo Tello Breuer (633291), Ida Wöstheinreich (628428)"
   ]
  },
  {
   "cell_type": "code",
   "execution_count": 91,
   "metadata": {},
   "outputs": [
    {
     "data": {
      "text/plain": [
       "simulate_2D"
      ]
     },
     "metadata": {},
     "output_type": "display_data"
    }
   ],
   "source": [
    "using LinearAlgebra,Random,Printf,FFTW,JLD,Plots,LaTeXStrings,Colors\n",
    "include(\"Ground_state.jl\"); include(\"1.3_Evolution.jl\")"
   ]
  },
  {
   "cell_type": "markdown",
   "metadata": {},
   "source": [
    "### Two important properties\n",
    "- **The unitarity of integrators**\\\n",
    "    The exact evolution operator is a unitary operator, i.e. it satisfies \n",
    "    $$U_\\text{ex}^\\dagger U_\\text{ex} =1.$$\n",
    "    The unitarity property in the context of quantum mechanics is also often called $\\textit{conservation of total probability}$, because this property is equivalent to the statement that the norm of states is conserved by the time evolution. "
   ]
  },
  {
   "cell_type": "markdown",
   "metadata": {},
   "source": [
    "- **The energy conservation of integrators**\\\n",
    "    The exact evolution operator satisfies\n",
    "    $$U_\\text{ex}^\\dagger \\hat{H}U_\\text{ex} =\\hat{H}$$\n",
    "    This property implies that the expectation value of the energy does not depend on time, i.e. it is conserved."
   ]
  },
  {
   "cell_type": "code",
   "execution_count": 92,
   "metadata": {},
   "outputs": [
    {
     "data": {
      "text/plain": [
       "test_energy_conservation (generic function with 3 methods)"
      ]
     },
     "metadata": {},
     "output_type": "display_data"
    }
   ],
   "source": [
    "function test_unitarity(N::Int, μ::Number, ϵ::Number, τ::Number, σ::Number , method::String; tol_cg::Number=1e-10, maxiters_cg::Int=10000)\n",
    "    m, k = [(1/ϵ,),(1/ϵ,0),(1/ϵ,0, 0)], [(1,),(1,0),(1,0,0)] # length(m) == ndims(n) \n",
    "    function test_engine(shape::Tuple{Vararg{Int}})   \n",
    "        n = lattice(N, length(shape))\n",
    "        V = potential(μ, ϵ, n)\n",
    "        ψ_0 = wave_packet(n, m[length(shape)], σ, k[length(shape)])\n",
    "        P = plan_fft(ψ_0); P_inv = inv(P)\n",
    "        integrator = choose_integrator(method; tol_cg, maxiters_cg, P, P_inv)\n",
    "        norm_ψ_0 = norm(ψ_0) \n",
    "        ψ = integrator(μ, ϵ, ψ_0, V, τ)\n",
    "        norm_ψ = norm(ψ)\n",
    "        residue = abs(norm_ψ - norm_ψ_0) \n",
    "        @printf \"residue = %.3e\" residue \n",
    "    end\n",
    "    print(\"\\nConservation of the Norm of the states with the \"); print(method); print(\" method after a time step(τ = \"); print(τ) \n",
    "    print(\"): \\n\");\n",
    "    print(\"D=1: \"); test_engine((N,))\n",
    "    print(\"\\nD=2: \"); test_engine((N,N))\n",
    "    print(\"\\nD=3: \"); test_engine((N,N,N)); print(\"\\n\")   \n",
    "end \n",
    "function test_energy_conservation(N::Int, μ::Number, ϵ::Number, τ::Number, σ::Number, method::String; tol_cg::Number=1e-10, maxiters_cg::Int=10000)\n",
    "    m, k = [(1/ϵ,),(1/ϵ,0),(1/ϵ,0, 0)], [(1,),(1,0),(1,0,0)]\n",
    "    function test_engine(shape::Tuple{Vararg{Int}}) \n",
    "        n = lattice(N, length(shape))\n",
    "        V = potential(μ, ϵ, n)\n",
    "        ψ_0 = wave_packet(n, m[length(shape)], σ, k[length(shape)]) \n",
    "        P = plan_fft(ψ_0); P_inv = inv(P)\n",
    "        integrator = choose_integrator(method; tol_cg, maxiters_cg, P, P_inv) \n",
    "        E_0,_ = energy_expectation(ψ_0, μ, ϵ)\n",
    "        ψ = integrator(μ, ϵ, ψ_0, V, τ)\n",
    "        E,_= energy_expectation(ψ, μ, ϵ)\n",
    "        residue = abs(E - E_0)\n",
    "        @printf \"residue = %.3e\" residue\n",
    "    end\n",
    "    print(\"\\nConservation of the energy expectation with the \"); print(method); print(\" method after a time step(τ = \"); print(τ)\n",
    "    print(\"): \\n\"); \n",
    "    print(\"D=1: \"); test_engine((N,))\n",
    "    print(\"\\nD=2: \"); test_engine((N,N))\n",
    "    print(\"\\nD=3: \"); test_engine((N,N,N)); print(\"\\n\")   \n",
    "end"
   ]
  },
  {
   "cell_type": "markdown",
   "metadata": {},
   "source": [
    "Not all approximated integrators preserve unitarity and energy conservation exactly.\n",
    "For example, the `Euler integrator` is neither unitary nor energy-preserving. The residues are slightly higher for higher dimensions.  \n",
    "But both properties are recovered in the τ → 0 limit:"
   ]
  },
  {
   "cell_type": "code",
   "execution_count": 93,
   "metadata": {},
   "outputs": [
    {
     "name": "stdout",
     "output_type": "stream",
     "text": [
      "\n",
      "Conservation of the Norm of the states with the euler method after a time step(τ = 0.5): \n",
      "D=1: "
     ]
    },
    {
     "name": "stdout",
     "output_type": "stream",
     "text": [
      "residue = 2.043e-01\n",
      "D=2: "
     ]
    },
    {
     "name": "stdout",
     "output_type": "stream",
     "text": [
      "residue = 1.472e-01\n",
      "D=3: "
     ]
    },
    {
     "name": "stdout",
     "output_type": "stream",
     "text": [
      "residue = 1.061e-01\n"
     ]
    },
    {
     "name": "stdout",
     "output_type": "stream",
     "text": [
      "\n",
      "Conservation of the energy expectation with the euler method after a time step(τ = 0.5): \n",
      "D=1: residue = 2.993e+00\n",
      "D=2: residue = 1.555e+00\n",
      "D=3: "
     ]
    },
    {
     "name": "stdout",
     "output_type": "stream",
     "text": [
      "residue = 8.084e-01\n",
      "\n",
      "Conservation of the Norm of the states with the euler method after a time step(τ = 0.05): \n",
      "D=1: residue = 1.342e-02\n",
      "D=2: residue = 9.669e-03\n",
      "D=3: residue = 6.969e-03\n",
      "\n",
      "Conservation of the energy expectation with the euler method after a time step(τ = 0.05): \n",
      "D=1: residue = 2.993e-02\n",
      "D=2: residue = 1.555e-02\n",
      "D=3: residue = 8.084e-03\n",
      "\n",
      "Conservation of the Norm of the states with the euler method after a time step(τ = 0.0005): \n",
      "D=1: residue = 2.204e-06\n",
      "D=2: residue = 1.589e-06\n",
      "D=3: residue = 1.145e-06\n",
      "\n",
      "Conservation of the energy expectation with the euler method after a time step(τ = 0.0005): \n",
      "D=1: residue = 2.993e-06\n",
      "D=2: residue = 1.555e-06\n",
      "D=3: residue = 8.084e-07\n"
     ]
    }
   ],
   "source": [
    "N = 10\n",
    "τ = [0.5, 0.05, 0.0005]\n",
    "μ, ϵ = 20, sqrt(0.001)\n",
    "σ = 10\n",
    "method = [\"euler\", \"crank-nicolson\", \"strang-splitting\"]\n",
    "for t in τ\n",
    "    test_unitarity(N, μ, ϵ, t, σ, method[1])\n",
    "    test_energy_conservation(N, μ, ϵ, t, σ, method[1])\n",
    "end"
   ]
  },
  {
   "cell_type": "markdown",
   "metadata": {},
   "source": [
    "But the `Crank-Nicolson` integrator is unitary and conserves the energy. \n",
    "The residues for these method are consistently of order $10^{-10}$ or smaller for both tests.\n",
    "The size of the residues does not depend on the size of τ:"
   ]
  },
  {
   "cell_type": "code",
   "execution_count": 94,
   "metadata": {},
   "outputs": [
    {
     "name": "stdout",
     "output_type": "stream",
     "text": [
      "\n",
      "Conservation of the Norm of the states with the crank-nicolson method after a time step(τ = 0.5): \n",
      "D=1: residue = 7.164e-16\n",
      "D=2: "
     ]
    },
    {
     "name": "stdout",
     "output_type": "stream",
     "text": [
      "residue = 1.225e-15\n",
      "D=3: "
     ]
    },
    {
     "name": "stdout",
     "output_type": "stream",
     "text": [
      "residue = 1.739e-14\n",
      "\n",
      "Conservation of the energy expectation with the crank-nicolson method after a time step(τ = 0.5): \n",
      "D=1: residue = 1.601e-14\n",
      "D=2: residue = 7.589e-17\n",
      "D=3: "
     ]
    },
    {
     "name": "stdout",
     "output_type": "stream",
     "text": [
      "residue = 5.601e-15\n",
      "\n",
      "Conservation of the Norm of the states with the crank-nicolson method after a time step(τ = 0.05): \n",
      "D=1: residue = 1.695e-15\n",
      "D=2: residue = 1.493e-15\n",
      "D=3: residue = 1.516e-14\n",
      "\n",
      "Conservation of the energy expectation with the crank-nicolson method after a time step(τ = 0.05): \n",
      "D=1: residue = 1.575e-15\n",
      "D=2: residue = 1.542e-15\n",
      "D=3: "
     ]
    },
    {
     "name": "stdout",
     "output_type": "stream",
     "text": [
      "residue = 9.103e-15\n",
      "\n",
      "Conservation of the Norm of the states with the crank-nicolson method after a time step(τ = 0.0005): \n",
      "D=1: residue = 1.388e-17\n",
      "D=2: residue = 2.042e-14\n",
      "D=3: residue = 2.679e-15\n",
      "\n",
      "Conservation of the energy expectation with the crank-nicolson method after a time step(τ = 0.0005): \n",
      "D=1: residue = 7.520e-16\n",
      "D=2: residue = 3.036e-18\n",
      "D=3: residue = 2.921e-16\n"
     ]
    }
   ],
   "source": [
    "N = 10\n",
    "τ = [0.5, 0.05, 0.0005]\n",
    "μ, ϵ = 20, sqrt(0.001)\n",
    "σ = 10\n",
    "method = [\"euler\", \"crank-nicolson\", \"strang-splitting\"]\n",
    "for t in τ\n",
    "    test_unitarity(N, μ, ϵ, t, σ, method[2])\n",
    "    test_energy_conservation(N, μ, ϵ, t, σ, method[2])\n",
    "end"
   ]
  },
  {
   "cell_type": "markdown",
   "metadata": {},
   "source": [
    "The `Strang-splitting` integrator is unitary and but does not conserve the energy. \n",
    "The residue for the unitary test are consistently of order $10^{-11}$ or smaller and\n",
    "their size does not depend on the size of τ.\\\n",
    "Energy conservation is recovered in the τ → 0 limit:"
   ]
  },
  {
   "cell_type": "code",
   "execution_count": 95,
   "metadata": {},
   "outputs": [
    {
     "name": "stdout",
     "output_type": "stream",
     "text": [
      "\n",
      "Conservation of the Norm of the states with the strang-splitting method after a time step(τ = 0.5): \n",
      "D=1: "
     ]
    },
    {
     "name": "stdout",
     "output_type": "stream",
     "text": [
      "residue = 1.735e-18\n",
      "D=2: "
     ]
    },
    {
     "name": "stdout",
     "output_type": "stream",
     "text": [
      "residue = 8.674e-19\n",
      "D=3: "
     ]
    },
    {
     "name": "stdout",
     "output_type": "stream",
     "text": [
      "residue = 0.000e+00\n",
      "\n",
      "Conservation of the energy expectation with the strang-splitting method after a time step(τ = 0.5): \n",
      "D=1: residue = 3.691e-05\n",
      "D=2: residue = 1.868e-05\n",
      "D=3: residue = 9.450e-06\n",
      "\n",
      "Conservation of the Norm of the states with the strang-splitting method after a time step(τ = 0.05): \n",
      "D=1: residue = 1.735e-18\n",
      "D=2: residue = 0.000e+00\n",
      "D=3: residue = 8.674e-19\n",
      "\n",
      "Conservation of the energy expectation with the strang-splitting method after a time step(τ = 0.05): \n",
      "D=1: residue = 1.442e-06\n",
      "D=2: residue = 7.274e-07\n",
      "D=3: residue = 3.668e-07\n",
      "\n",
      "Conservation of the Norm of the states with the strang-splitting method after a time step(τ = 0.0005): \n",
      "D=1: residue = 0.000e+00\n",
      "D=2: residue = 0.000e+00\n",
      "D=3: residue = 0.000e+00\n",
      "\n",
      "Conservation of the energy expectation with the strang-splitting method after a time step(τ = 0.0005): \n",
      "D=1: residue = 2.939e-12\n",
      "D=2: residue = 1.516e-12\n",
      "D=3: residue = 7.822e-13\n"
     ]
    }
   ],
   "source": [
    "N = 10\n",
    "τ = [0.5, 0.05, 0.0005]\n",
    "μ, ϵ = 20, sqrt(0.001)\n",
    "σ = 10\n",
    "method = [\"euler\", \"crank-nicolson\", \"strang-splitting\"]\n",
    "for t in τ\n",
    "    test_unitarity(N, μ, ϵ, t, σ, method[3])\n",
    "    test_energy_conservation(N, μ, ϵ, t, σ, method[3])\n",
    "end"
   ]
  }
 ],
 "metadata": {
  "kernelspec": {
   "display_name": "Julia 1.9.3",
   "language": "julia",
   "name": "julia-1.9"
  },
  "language_info": {
   "file_extension": ".jl",
   "mimetype": "application/julia",
   "name": "julia",
   "version": "1.9.3"
  }
 },
 "nbformat": 4,
 "nbformat_minor": 2
}
