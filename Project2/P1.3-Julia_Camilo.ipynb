{
 "cells": [
  {
   "cell_type": "code",
   "execution_count": 2,
   "metadata": {},
   "outputs": [],
   "source": [
    "using LinearAlgebra,Random,Printf,LaTeXStrings\n",
    "using Plots; gr()\n",
    "using FFTW"
   ]
  },
  {
   "cell_type": "code",
   "execution_count": 3,
   "metadata": {},
   "outputs": [
    {
     "data": {
      "text/plain": [
       "Hamiltonian (generic function with 1 method)"
      ]
     },
     "metadata": {},
     "output_type": "display_data"
    }
   ],
   "source": [
    "function lattice(N::Int, D::Int) #construct array of lattice coordinates (with n = 0 in the center)\n",
    "    @assert(N > 0, \"N = \" * string(N) * \" must be positive\")\n",
    "    @assert(D > 0, \"D = \" * string(D) * \" must be positive\")\n",
    "    \n",
    "    if mod(N,2) == 0 n_1D = -(N-2)/2:N/2 end\n",
    "    if mod(N,2) == 1 n_1D = -(N-1)/2:(N-1)/2 end\n",
    "\n",
    "    if D == 1 return collect(n_1D) end\n",
    "    \n",
    "    n = collect(Base.product([n_1D for i in 1:D]...)) #Cartesian product\n",
    "    \n",
    "    return n\n",
    "end\n",
    "\n",
    "function potential(μ::Number, ϵ::Number, n::Array)\n",
    "    @assert(μ > 0, \"μ = \" * string(μ) * \" must be positive\")\n",
    "    @assert(ϵ > 0, \"ϵ = \" * string(ϵ) * \" must be positive\")\n",
    "    \n",
    "    return @. μ/8 * (ϵ^2*dot(n,n) - 1)^2\n",
    "end\n",
    "\n",
    "function kinetic(μ::Number, ϵ::Number, ψ::Array) #with periodic boundary conditions\n",
    "    @assert(μ > 0, \"μ = \" * string(μ) * \" must be positive\")\n",
    "    @assert(ϵ > 0, \"ϵ = \" * string(ϵ) * \" must be positive\")\n",
    "    \n",
    "    D = ndims(ψ)\n",
    "    N = size(ψ)[1]\n",
    "\n",
    "    Δ = -2*D*ψ #last term of discretized Laplacian\n",
    "\n",
    "    for k in 1:D\n",
    "        Δ += selectdim(ψ, k, vcat(2:N,1:1)) + selectdim(ψ, k, vcat(N:N,1:N-1)) #remaining terms\n",
    "    end\n",
    "    \n",
    "    return -1/(2*μ*ϵ^2) * Δ\n",
    "end\n",
    "\n",
    "function Hamiltonian(μ::Number, ϵ::Number, ψ::Array, pot::Array) #it would likely be more memory-efficient to pre-calculate the potential\n",
    "    \n",
    "    return kinetic(μ, ϵ, ψ) + pot .* ψ\n",
    "end"
   ]
  },
  {
   "cell_type": "code",
   "execution_count": 4,
   "metadata": {},
   "outputs": [
    {
     "data": {
      "text/plain": [
       "lowest_eigenvalue (generic function with 1 method)"
      ]
     },
     "metadata": {},
     "output_type": "display_data"
    }
   ],
   "source": [
    "function power_method(vshape::Tuple{Vararg{Int}}, apply_A::Function, tol::Float64, maxiters::Int)\n",
    "    @assert(tol > 0, \"tol = \" * string(tol) * \" must be positive\")\n",
    "    @assert(maxiters > 0, \"maxiters = \" * string(maxiters) * \" must be positive\")\n",
    "    \n",
    "    v = rand(ComplexF64, vshape)\n",
    "    niters = 0\n",
    "    λ = 0\n",
    "    \n",
    "    while niters < maxiters\n",
    "        w = apply_A(v)\n",
    "        λ = norm(w)\n",
    "        if max(abs.(w - λ*v)...) < tol break end\n",
    "        v = w/λ\n",
    "        niters += 1\n",
    "    end\n",
    "    \n",
    "    if niters == maxiters error(\"Maximum number of power method iterations reached\") end\n",
    "    \n",
    "    return λ, v, niters\n",
    "end\n",
    "\n",
    "function conjugate_gradient(apply_A::Function, b::Array, tol::Float64, maxiters::Int)\n",
    "    @assert(tol > 0, \"tol = \" * string(tol) * \" must be positive\")\n",
    "    @assert(maxiters > 0, \"maxiters = \" * string(maxiters) * \" must be positive\")\n",
    "    \n",
    "    x = rand(ComplexF64, size(b))\n",
    "    r = b - apply_A(x); p = r\n",
    "    niters = 0\n",
    "    \n",
    "    while niters < maxiters\n",
    "        x = x + dot(r,r) / dot(p,apply_A(p)) * p\n",
    "        r_new = b - apply_A(x)\n",
    "        if norm(r_new) < tol*norm(b) break end\n",
    "        p = r_new + dot(r_new,r_new) / dot(r,r) * p\n",
    "        r = r_new\n",
    "        niters += 1\n",
    "    end\n",
    "    \n",
    "    if niters == maxiters error(\"Maximum number of conjugate gradient iterations reached\") end\n",
    "    \n",
    "    return x, niters\n",
    "end\n",
    "\n",
    "function lowest_eigenvalue(vshape::Tuple{Vararg{Int}}, apply_A::Function, tol_pm::Float64, maxiters_pm::Int, tol_cg::Float64, maxiters_cg::Int)\n",
    "    \n",
    "    function apply_A_inverse(v)\n",
    "        x, _ = conjugate_gradient(apply_A, v, tol_cg, maxiters_cg)\n",
    "        return x\n",
    "    end\n",
    "    \n",
    "    λ, v, _ = power_method(vshape, apply_A_inverse, tol_pm, maxiters_pm)\n",
    "    \n",
    "    return 1/λ, v\n",
    "end"
   ]
  },
  {
   "cell_type": "code",
   "execution_count": 5,
   "metadata": {},
   "outputs": [
    {
     "data": {
      "text/plain": [
       "crank_nicolson (generic function with 1 method)"
      ]
     },
     "metadata": {},
     "output_type": "display_data"
    }
   ],
   "source": [
    "function euler_integrator(Hamiltonian::Function, Potential::Array, τ::Float64, μ::Float64, ϵ::Float64, ψ::Array)\n",
    "    dψ = ψ - im*Hamiltonian(μ, ϵ, ψ, Potential)*τ\n",
    "    return dψ\n",
    "end\n",
    "\n",
    "function crank_nicolson(Hamiltonian::Function, Potential::Array, τ::Float64, μ::Float64, ϵ::Float64, ψ::Array, conj_grad::Function, tol::Float64, maxiters::Int)\n",
    "    \n",
    "    function apply_nicolson(ψ::Array)\n",
    "        return ψ + 1/4*τ^2*Hamiltonian(μ, ϵ, Hamiltonian(μ, ϵ, ψ, Potential), Potential)\n",
    "    end\n",
    "\n",
    "    dψ, _ = conj_grad(apply_nicolson, ψ, tol, maxiters)\n",
    "    Hdψ = Hamiltonian(μ, ϵ, dψ, Potential)\n",
    "    dψ = dψ - im*τ*Hdψ - τ^2/4*Hamiltonian(μ, ϵ, Hdψ, Potential)\n",
    "    \n",
    "    return dψ\n",
    "end"
   ]
  },
  {
   "cell_type": "code",
   "execution_count": 6,
   "metadata": {},
   "outputs": [],
   "source": [
    "function gaussian(n::Array, σ::Number, n_0::Tuple, k_0::Tuple)\n",
    "    x = [i .- n_0 for i in n]\n",
    "    xk_0 = [dot(i,k_0) for i in n]\n",
    "    return @. 1/sqrt(2π*σ^2)*exp(-dot(x,x)/(2*σ^2))*exp(im*xk_0)\n",
    "end\n",
    "\n",
    "n = lattice(200,2)\n",
    "n_1D = lattice(200,1)\n",
    "μ = 20.\n",
    "τ = 0.004\n",
    "T = 5\n",
    "ϵ = sqrt(0.001)\n",
    "#n = lattice(Int(round(3/ϵ)),1)\n",
    "n_0 = (Int(round(1/(ϵ))),Int(round(1/(ϵ))))\n",
    "k_0 = (0.27,0.27)\n",
    "σ = 3\n",
    "pot = potential(μ, ϵ, n)\n",
    "pgaussian = gaussian(n, σ, n_0, k_0)\n",
    "pegaussian = pgaussian/norm(pgaussian)\n",
    "pcgaussian = pgaussian/norm(pgaussian)\n",
    "\n",
    "anim = @animate for 🐒 in 1:Int(T/τ)\n",
    "    #egaussian = euler_integrator(Hamiltonian, pot, τ, μ, ϵ, pegaussian/norm(pegaussian))\n",
    "    cgaussian = crank_nicolson(Hamiltonian, pot, τ, μ, ϵ, pcgaussian, conjugate_gradient, 10e-4, 3000)\n",
    "    global pcgaussian = cgaussian\n",
    "    #global pegaussian = egaussian\n",
    "    p = surface(n_1D, n_1D, abs.(cgaussian).^2, c = :blues, legend = nothing, camera = (180*log(🐒/(T/τ)+1), 50*log(🐒/(T/τ)+1)))\n",
    "    surface!(n_1D, n_1D, pot/norm(pot), alpha = :0.2, c = :heat, legend = nothing)\n",
    "    zlims!(0,0.01)\n",
    "    #plot!(n, abs.(egaussian/norm(pegaussian)).^2, color = 1, label = \"euler\")\n",
    "    #ylims!(-0.01,0.15)\n",
    "end every 10\n",
    "\n",
    "gif(anim, \"quantum.gif\", fps = 20)\n"
   ]
  },
  {
   "cell_type": "code",
   "execution_count": 1,
   "metadata": {},
   "outputs": [
    {
     "ename": "UndefVarError",
     "evalue": "UndefVarError: `lattice` not defined",
     "output_type": "error",
     "traceback": [
      "UndefVarError: `lattice` not defined\n",
      "\n",
      "Stacktrace:\n",
      " [1] top-level scope\n",
      "   @ c:\\Users\\camil\\Documents\\Studium\\Master\\Module\\Computational Physics\\Project 1\\CPII_Emmy_Noether\\Project2\\P1.3-Julia.ipynb:1"
     ]
    }
   ],
   "source": [
    "n = lattice(200,1)\n",
    "μ = 20.\n",
    "ϵ = sqrt(0.001)\n",
    "T = 5\n",
    "\n",
    "n_0 = (Int(round(1/(ϵ))),)\n",
    "k_0 = (0,)\n",
    "σ = 3\n",
    "\n",
    "τ = range(0.3, 0.0001, 50)\n",
    "pot = potential(μ, ϵ, n)\n",
    "anim = @animate for j ∈ τ\n",
    "    pgaussian = gaussian(n, σ, n_0, k_0)\n",
    "    pegaussian = pgaussian/norm(pgaussian)\n",
    "    pcgaussian = pgaussian/norm(pgaussian)\n",
    "    for i in 1:Int(round(T/j))\n",
    "        cgaussian = crank_nicolson(Hamiltonian, pot, j, μ, ϵ, pcgaussian, conjugate_gradient, 10e-4, 3000)\n",
    "        egaussian = euler_integrator(Hamiltonian, pot, j, μ, ϵ, pcgaussian)\n",
    "        pcgaussian = cgaussian\n",
    "        pegaussian = egaussian\n",
    "    end\n",
    "    p = plot(n, abs.(pcgaussian).^2, label = \"Crank-Nicolson\",legend=:topleft)\n",
    "    plot!(n, abs.(pegaussian).^2, label = \"Euler\")\n",
    "    title!(\"τ=\"*string(round(j,digits = 5))*\", T=\"*string(T))\n",
    "    ylims!(0,0.1)\n",
    "end\n",
    "\n",
    "gif(anim, \"cool_limit.gif\", fps = 5)"
   ]
  },
  {
   "cell_type": "code",
   "execution_count": null,
   "metadata": {},
   "outputs": [],
   "source": [
    "'anim = @animate for 🐒 in 1:Int(T/τ)\n",
    "    #egaussian = euler_integrator(Hamiltonian, pot, τ, μ, ϵ, pegaussian/norm(pegaussian))\n",
    "    cgaussian = crank_nicolson(Hamiltonian, pot, τ, μ, ϵ, pcgaussian, conjugate_gradient, 10e-4, 3000)\n",
    "    global pcgaussian = cgaussian\n",
    "    #global pegaussian = egaussian\n",
    "    p = plot(n, pot/norm(pot), label = \"potential\", color = 3)\n",
    "    plot!(n, abs.(cgaussian).^2, color = 2, label = \"crank-nicolson\")\n",
    "    #plot!(n, abs.(egaussian/norm(pegaussian)).^2, color = 1, label = \"euler\")\n",
    "    ylims!(-0.01,0.15)\n",
    "end every 50'"
   ]
  }
 ],
 "metadata": {
  "kernelspec": {
   "display_name": "Julia 1.9.3",
   "language": "julia",
   "name": "julia-1.9"
  },
  "language_info": {
   "file_extension": ".jl",
   "mimetype": "application/julia",
   "name": "julia",
   "version": "1.9.3"
  }
 },
 "nbformat": 4,
 "nbformat_minor": 2
}
