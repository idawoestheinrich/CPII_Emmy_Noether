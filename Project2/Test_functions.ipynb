{
 "cells": [
  {
   "cell_type": "markdown",
   "metadata": {},
   "source": [
    "## Project 1.2 - Test Functions\n",
    "\n",
    "Group: Emmy Noether\n",
    "\n",
    "Students: Janik Rausch (628334), Camilo Tello Breuer (633291), Ida Wöstheinreich (628428)"
   ]
  },
  {
   "cell_type": "code",
   "execution_count": 13,
   "metadata": {},
   "outputs": [
    {
     "data": {
      "text/plain": [
       "ground_state (generic function with 1 method)"
      ]
     },
     "metadata": {},
     "output_type": "display_data"
    }
   ],
   "source": [
    "using LinearAlgebra,Random,Printf\n",
    "include(\"Ground_state.jl\")"
   ]
  },
  {
   "cell_type": "markdown",
   "metadata": {},
   "source": [
    "**Tests of the Hamiltonian**\n",
    "\n",
    "The Hamiltonian must be linear, hermitian and positive-definite. Also, plane waves must be eigenfunctions of the kinetic term, with eigenvalues $$E_\\textbf{k}=-\\frac{1}{\\mu\\epsilon^2}\\sum_i\\left(\\cos\\left(\\frac{2\\pi}{N}k_i\\right)-1\\right).$$"
   ]
  },
  {
   "cell_type": "code",
   "execution_count": 3,
   "metadata": {},
   "outputs": [
    {
     "data": {
      "text/plain": [
       "test_eigenfunctions (generic function with 1 method)"
      ]
     },
     "metadata": {},
     "output_type": "display_data"
    }
   ],
   "source": [
    "function test_linearity(N::Int, params::Array{Tuple{Real, Real}})\n",
    "\n",
    "    function test_engine(shape::Tuple{Vararg{Int}})\n",
    "        ψ, ϕ = rand(ComplexF64, shape), rand(ComplexF64, shape)\n",
    "        α, β = rand(ComplexF64), rand(ComplexF64)\n",
    "        n = lattice(N, length(shape))\n",
    "\n",
    "        res = fill(1.0, (3,))\n",
    "\n",
    "        for i in 1:3\n",
    "            μ, ϵ = params[i]\n",
    "            V = potential(μ, ϵ, n)\n",
    "            δ = Hamiltonian(μ, ϵ, (@. α*ψ + β*ϕ), V) - α*Hamiltonian(μ, ϵ, ψ, V) - β*Hamiltonian(μ, ϵ, ϕ, V)\n",
    "            res[i] = max(abs.(δ)...)\n",
    "        end\n",
    "        \n",
    "        @printf \"residues = [%.3e, %.3e, %.3e]\" res...\n",
    "    end\n",
    "    \n",
    "    println(\"Linearity:\")\n",
    "    print(\"D=1: \"); test_engine((N,))\n",
    "    print(\"\\nD=2: \"); test_engine((N,N))\n",
    "    print(\"\\nD=3: \"); test_engine((N,N,N)); print(\"\\n\")\n",
    "end\n",
    "\n",
    "function test_hermiticity(N::Int, params::Array{Tuple{Real, Real}})\n",
    "\n",
    "    function test_engine(shape::Tuple{Vararg{Int}})\n",
    "        ψ, ϕ = rand(ComplexF64, shape), rand(ComplexF64, shape)\n",
    "        α, β = rand(ComplexF64), rand(ComplexF64)\n",
    "        n = lattice(N, length(shape))\n",
    "\n",
    "        res = fill(1.0, (3,))\n",
    "        \n",
    "        for i in 1:3\n",
    "            μ, ϵ = params[i]\n",
    "            V = potential(μ, ϵ, n)\n",
    "            δ = dot(ψ, Hamiltonian(μ, ϵ, ϕ, V)) - dot(Hamiltonian(μ, ϵ, ψ, V), ϕ)\n",
    "            res[i] = max(abs.(δ)...)\n",
    "        end\n",
    "        \n",
    "        @printf \"residues = [%.3e, %.3e, %.3e]\" res...\n",
    "    end\n",
    "    \n",
    "    println(\"Hermiticity:\")\n",
    "    print(\"D=1: \"); test_engine((N,))\n",
    "    print(\"\\nD=2: \"); test_engine((N,N))\n",
    "    print(\"\\nD=3: \"); test_engine((N,N,N)); print(\"\\n\")\n",
    "end\n",
    "\n",
    "function test_positivity(N::Int, params::Array{Tuple{Real, Real}})\n",
    "\n",
    "    function test_engine(shape::Tuple{Vararg{Int}})\n",
    "        ψ = rand(ComplexF64, shape)\n",
    "        \n",
    "        res = fill(1.0+im, (3,))\n",
    "        \n",
    "        for i in 1:3\n",
    "            μ, ϵ = params[i]\n",
    "            δ = dot(ψ, kinetic(μ, ϵ, ψ))\n",
    "            res[i] = δ\n",
    "        end\n",
    "        \n",
    "        print([real(res)[i] >= 0 for i in 1:3])\n",
    "        @printf \", imaginary parts = [%.3e, %.3e, %.3e]\" imag(res)...\n",
    "    end\n",
    "    \n",
    "    println(\"Positivity:\")\n",
    "    print(\"D=1: \"); test_engine((N,))\n",
    "    print(\"\\nD=2: \"); test_engine((N,N))\n",
    "    print(\"\\nD=3: \"); test_engine((N,N,N)); print(\"\\n\")\n",
    "end\n",
    "\n",
    "function test_eigenfunctions(N::Int, params::Array{Tuple{Real, Real}})\n",
    "\n",
    "    function test_engine(shape::Tuple{Vararg{Int}})\n",
    "        k = rand(Int16, (length(shape)))\n",
    "        K = fill(k, shape)\n",
    "        n = lattice(N, length(shape))\n",
    "        ψ_k = @. exp(2*pi*im/N * dot(n, K))\n",
    "\n",
    "        res = fill(1.0, (3,))\n",
    "        \n",
    "        for i in 1:3\n",
    "            μ, ϵ = params[i]\n",
    "            δ = kinetic(μ, ϵ, ψ_k) + 1/(μ*ϵ^2) * (sum(cos.(2*pi/N * k)) - length(shape)) * ψ_k\n",
    "            res[i] = max(abs.(δ)...)\n",
    "        end\n",
    "        \n",
    "        @printf \"residues = [%.3e, %.3e, %.3e]\" res...\n",
    "    end\n",
    "    \n",
    "    println(\"Eigenfunctions:\")\n",
    "    print(\"D=1: \"); test_engine((N,))\n",
    "    print(\"\\nD=2: \"); test_engine((N,N))\n",
    "    print(\"\\nD=3: \"); test_engine((N,N,N)); print(\"\\n\")\n",
    "end"
   ]
  },
  {
   "cell_type": "code",
   "execution_count": 6,
   "metadata": {},
   "outputs": [
    {
     "name": "stdout",
     "output_type": "stream",
     "text": [
      "(μ, ϵ) = [(1, 1), (20, 0.1), (0.1, 20)]\n",
      "\n",
      "Linearity:\n",
      "D=1: residues = [7.105e-15, 9.155e-16, 1.164e-10]\n",
      "D=2: residues = [6.355e-14, 5.329e-15, 1.041e-09]\n",
      "D=3: residues = [1.705e-13, 1.037e-14, 2.945e-09]\n",
      "Hermiticity:\n",
      "D=1: residues = [0.000e+00, 8.882e-16, 1.164e-10]\n",
      "D=2: residues = [5.684e-13, 1.465e-14, 0.000e+00]\n",
      "D=3: residues = [3.638e-12, 2.274e-13, 1.333e-07]\n",
      "Positivity:\n",
      "D=1: Bool[1, 1, 1], imaginary parts = [2.776e-17, -2.220e-16, 1.735e-18]\n",
      "D=2: Bool[1, 1, 1], imaginary parts = [-1.554e-15, -8.882e-16, -4.337e-17]\n",
      "D=3: Bool[1, 1, 1], imaginary parts = [1.243e-14, -4.263e-14, -4.441e-16]\n",
      "Eigenfunctions:\n",
      "D=1: residues = [3.830e-13, 1.914e-12, 9.572e-15]\n",
      "D=2: "
     ]
    },
    {
     "name": "stdout",
     "output_type": "stream",
     "text": [
      "residues = [1.405e-11, 7.026e-11, 3.513e-13]\n",
      "D=3: residues = [1.811e-11, 9.053e-11, 4.526e-13]\n"
     ]
    }
   ],
   "source": [
    "params = [(1,1), (20,0.1), (0.1,20)]\n",
    "\n",
    "println(\"(μ, ϵ) = \", string(params)[18:end], \"\\n\")\n",
    "test_linearity(10, params)\n",
    "test_hermiticity(10, params)\n",
    "test_positivity(10, params)\n",
    "test_eigenfunctions(10, params)"
   ]
  },
  {
   "cell_type": "markdown",
   "metadata": {},
   "source": [
    "The residues are consistently of order $10^{-6}$ or smaller for all tests. They tend to increase with the number of dimensions."
   ]
  },
  {
   "cell_type": "markdown",
   "metadata": {},
   "source": [
    "**Tests of the eigenvalue algorithms**"
   ]
  },
  {
   "cell_type": "code",
   "execution_count": 9,
   "metadata": {},
   "outputs": [
    {
     "data": {
      "text/plain": [
       "test_conjugate_gradient (generic function with 1 method)"
      ]
     },
     "metadata": {},
     "output_type": "display_data"
    }
   ],
   "source": [
    "function test_power_method(N::Int, tol::Float64, maxiters::Int)\n",
    "    \n",
    "    function test_engine(shape::Tuple{Vararg{Int}})\n",
    "        M = prod(shape)\n",
    "        A = randn(ComplexF64, (M,M))\n",
    "        A = A' * A; A = (A + A')/2\n",
    "        \n",
    "        function apply_A(v::Array)\n",
    "            @assert size(v) == shape\n",
    "            return reshape(A*reshape(v, (M,)), shape)\n",
    "        end\n",
    "        \n",
    "        λ, v, niters = power_method(shape, apply_A, tol, maxiters)\n",
    "        δ = apply_A(v) - λ*v\n",
    "        res = max(abs.(δ)...)\n",
    "\n",
    "        @printf \"residue = %.3e\" res\n",
    "        print(\", iterations = \", niters, \", Test passes: \", res <= tol)\n",
    "    end\n",
    "    \n",
    "    println(\"Power method:\")\n",
    "    print(\"D=1: \"); @time \"; runtime\" test_engine((N,))\n",
    "    print(\"D=2: \"); @time \"; runtime\" test_engine((N,N))\n",
    "    print(\"D=3: \"); @time \"; runtime\" test_engine((N,N,N)); print(\"\\n\")\n",
    "end\n",
    "\n",
    "function test_conjugate_gradient(N::Int, tol::Float64, maxiters::Int)\n",
    "    \n",
    "    function test_engine(shape::Tuple{Vararg{Int}})\n",
    "        M = prod(shape)\n",
    "        A = randn(ComplexF64, (M,M))\n",
    "        A = A' * A; A = (A + A')/2 #make A positive definite & hermitian\n",
    "        b = randn(ComplexF64, shape)\n",
    "        \n",
    "        function apply_A(v::Array)\n",
    "            @assert size(v) == shape\n",
    "            return reshape(A*reshape(v, (M,)), shape)\n",
    "        end\n",
    "        \n",
    "        x, niters = conjugate_gradient(apply_A, b, tol, maxiters)\n",
    "        δ = apply_A(x) - b\n",
    "        res = norm(δ)\n",
    "\n",
    "        @printf \"residue = %.3e\" res\n",
    "        print(\", iterations = \", niters, \", test passes: \", res <= tol*norm(b))\n",
    "    end\n",
    "\n",
    "    println(\"Conjugate Gradient:\")\n",
    "    print(\"D=1: \"); @time \"; runtime\" test_engine((N,))\n",
    "    print(\"D=2: \"); @time \"; runtime\" test_engine((N,N))\n",
    "    print(\"D=3: \"); @time \"; runtime\" test_engine((N,N,N)); print(\"\\n\")\n",
    "end"
   ]
  },
  {
   "cell_type": "code",
   "execution_count": 12,
   "metadata": {},
   "outputs": [
    {
     "name": "stdout",
     "output_type": "stream",
     "text": [
      "Power method:\n",
      "D=1: residue = 8.790e-11, iterations = 37, Test passes: true; runtime: 0.000367 seconds (1.14 k allocations: 55.961 KiB)\n",
      "D=2: residue = 9.891e-11, iterations = 249, Test passes: true; runtime: 0.010445 seconds (36.20 k allocations: 2.117 MiB)\n",
      "D=3: "
     ]
    },
    {
     "name": "stdout",
     "output_type": "stream",
     "text": [
      "residue = 9.856e-11, iterations = 1291, Test passes: true; runtime: 0.750859 seconds (1.35 M allocations: 98.389 MiB, 2.72% gc time)\n",
      "\n",
      "Conjugate Gradient:\n",
      "D=1: residue = 6.149e-12, iterations = 8, test passes: true; runtime: 0.015468 seconds (231 allocations: 21.289 KiB)\n",
      "D=2: residue = 5.711e-10, iterations = 98, test passes: true; runtime: 0.009507 seconds (2.75 k allocations: 1.045 MiB)\n",
      "D=3: "
     ]
    },
    {
     "name": "stdout",
     "output_type": "stream",
     "text": [
      "residue = 1.927e-09, iterations = 959, test passes: true; runtime: 0.658676 seconds (26.04 k allocations: 70.033 MiB, 2.61% gc time)\n",
      "\n"
     ]
    }
   ],
   "source": [
    "test_power_method(8, 1e-10, 10000)\n",
    "test_conjugate_gradient(8, 1e-10, 10000)"
   ]
  },
  {
   "cell_type": "markdown",
   "metadata": {},
   "source": [
    "The algorithms converge quickly for small $N$, but the number of iterations and the runtime increase very quickly with $N$, especially for $D=3$."
   ]
  }
 ],
 "metadata": {
  "kernelspec": {
   "display_name": "Julia 1.9.3",
   "language": "julia",
   "name": "julia-1.9"
  },
  "language_info": {
   "file_extension": ".jl",
   "mimetype": "application/julia",
   "name": "julia",
   "version": "1.9.3"
  }
 },
 "nbformat": 4,
 "nbformat_minor": 2
}
