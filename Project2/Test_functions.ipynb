{
 "cells": [
  {
   "cell_type": "markdown",
   "metadata": {},
   "source": [
    "## Project 1.2 - Test Functions\n",
    "\n",
    "Group: Emmy Noether\n",
    "\n",
    "Students: Janik Rausch (628334), Camilo Tello Breuer (633291), Ida Wöstheinreich (628428)"
   ]
  },
  {
   "cell_type": "code",
   "execution_count": 1,
   "metadata": {},
   "outputs": [
    {
     "data": {
      "text/plain": [
       "ground_state"
      ]
     },
     "metadata": {},
     "output_type": "display_data"
    }
   ],
   "source": [
    "using LinearAlgebra,Random,Printf\n",
    "include(\"Ground_state.jl\")"
   ]
  },
  {
   "cell_type": "markdown",
   "metadata": {},
   "source": [
    "**Tests of the Hamiltonian**\n",
    "\n",
    "The Hamiltonian must be linear, hermitian and positive-definite. Also, plane waves must be eigenfunctions of the kinetic term, with eigenvalues $$E_\\textbf{k}=-\\frac{1}{\\mu\\epsilon^2}\\sum_i\\left(\\cos\\left(\\frac{2\\pi}{N}k_i\\right)-1\\right).$$"
   ]
  },
  {
   "cell_type": "code",
   "execution_count": 2,
   "metadata": {},
   "outputs": [
    {
     "data": {
      "text/plain": [
       "test_eigenfunctions (generic function with 1 method)"
      ]
     },
     "metadata": {},
     "output_type": "display_data"
    }
   ],
   "source": [
    "function test_linearity(N::Int, params::Array{Tuple{Real, Real}})\n",
    "\n",
    "    function test_engine(shape::Tuple{Vararg{Int}})\n",
    "        ψ, ϕ = rand(ComplexF64, shape), rand(ComplexF64, shape)\n",
    "        α, β = rand(ComplexF64), rand(ComplexF64)\n",
    "        n = lattice(N, length(shape))\n",
    "\n",
    "        res = fill(1.0, (3,))\n",
    "\n",
    "        for i in 1:3\n",
    "            μ, ϵ = params[i]\n",
    "            V = potential(μ, ϵ, n)\n",
    "            δ = Hamiltonian(μ, ϵ, (@. α*ψ + β*ϕ), V) - α*Hamiltonian(μ, ϵ, ψ, V) - β*Hamiltonian(μ, ϵ, ϕ, V)\n",
    "            res[i] = max(abs.(δ)...)\n",
    "        end\n",
    "        \n",
    "        @printf \"residues = [%.3e, %.3e, %.3e]\" res...\n",
    "    end\n",
    "    \n",
    "    println(\"Linearity:\")\n",
    "    print(\"D=1: \"); test_engine((N,))\n",
    "    print(\"\\nD=2: \"); test_engine((N,N))\n",
    "    print(\"\\nD=3: \"); test_engine((N,N,N)); print(\"\\n\")\n",
    "end\n",
    "\n",
    "function test_hermiticity(N::Int, params::Array{Tuple{Real, Real}})\n",
    "\n",
    "    function test_engine(shape::Tuple{Vararg{Int}})\n",
    "        ψ, ϕ = rand(ComplexF64, shape), rand(ComplexF64, shape)\n",
    "        α, β = rand(ComplexF64), rand(ComplexF64)\n",
    "        n = lattice(N, length(shape))\n",
    "\n",
    "        res = fill(1.0, (3,))\n",
    "        \n",
    "        for i in 1:3\n",
    "            μ, ϵ = params[i]\n",
    "            V = potential(μ, ϵ, n)\n",
    "            δ = dot(ψ, Hamiltonian(μ, ϵ, ϕ, V)) - dot(Hamiltonian(μ, ϵ, ψ, V), ϕ)\n",
    "            res[i] = max(abs.(δ)...)\n",
    "        end\n",
    "        \n",
    "        @printf \"residues = [%.3e, %.3e, %.3e]\" res...\n",
    "    end\n",
    "    \n",
    "    println(\"Hermiticity:\")\n",
    "    print(\"D=1: \"); test_engine((N,))\n",
    "    print(\"\\nD=2: \"); test_engine((N,N))\n",
    "    print(\"\\nD=3: \"); test_engine((N,N,N)); print(\"\\n\")\n",
    "end\n",
    "\n",
    "function test_positivity(N::Int, params::Array{Tuple{Real, Real}})\n",
    "\n",
    "    function test_engine(shape::Tuple{Vararg{Int}})\n",
    "        ψ = rand(ComplexF64, shape)\n",
    "        \n",
    "        res = fill(1.0+im, (3,))\n",
    "        \n",
    "        for i in 1:3\n",
    "            μ, ϵ = params[i]\n",
    "            δ = dot(ψ, kinetic(μ, ϵ, ψ))\n",
    "            res[i] = δ\n",
    "        end\n",
    "        \n",
    "        print([real(res)[i] >= 0 for i in 1:3])\n",
    "        @printf \", imaginary parts = [%.3e, %.3e, %.3e]\" imag(res)...\n",
    "    end\n",
    "    \n",
    "    println(\"Positivity:\")\n",
    "    print(\"D=1: \"); test_engine((N,))\n",
    "    print(\"\\nD=2: \"); test_engine((N,N))\n",
    "    print(\"\\nD=3: \"); test_engine((N,N,N)); print(\"\\n\")\n",
    "end\n",
    "\n",
    "function test_eigenfunctions(N::Int, params::Array{Tuple{Real, Real}})\n",
    "\n",
    "    function test_engine(shape::Tuple{Vararg{Int}})\n",
    "        k = rand(Int16, (length(shape)))\n",
    "        K = fill(k, shape)\n",
    "        n = lattice(N, length(shape))\n",
    "        ψ_k = @. exp(2*pi*im/N * dot(n, K))\n",
    "\n",
    "        res = fill(1.0, (3,))\n",
    "        \n",
    "        for i in 1:3\n",
    "            μ, ϵ = params[i]\n",
    "            δ = kinetic(μ, ϵ, ψ_k) + 1/(μ*ϵ^2) * (sum(cos.(2*pi/N * k)) - length(shape)) * ψ_k\n",
    "            res[i] = max(abs.(δ)...)\n",
    "        end\n",
    "        \n",
    "        @printf \"residues = [%.3e, %.3e, %.3e]\" res...\n",
    "    end\n",
    "    \n",
    "    println(\"Eigenfunctions:\")\n",
    "    print(\"D=1: \"); test_engine((N,))\n",
    "    print(\"\\nD=2: \"); test_engine((N,N))\n",
    "    print(\"\\nD=3: \"); test_engine((N,N,N)); print(\"\\n\")\n",
    "end"
   ]
  },
  {
   "cell_type": "code",
   "execution_count": 3,
   "metadata": {},
   "outputs": [
    {
     "name": "stdout",
     "output_type": "stream",
     "text": [
      "(μ, ϵ) = [(1, 1), (20, 0.1), (0.1, 20)]\n",
      "\n"
     ]
    },
    {
     "name": "stdout",
     "output_type": "stream",
     "text": [
      "Linearity:\n",
      "D=1: residues = [7.105e-15, 8.671e-16, 6.508e-11]"
     ]
    },
    {
     "name": "stdout",
     "output_type": "stream",
     "text": [
      "\n",
      "D=2: residues = [3.352e-14, 2.868e-15, 9.533e-10]"
     ]
    },
    {
     "name": "stdout",
     "output_type": "stream",
     "text": [
      "\n",
      "D=3: residues = [1.729e-13, 6.217e-15, 1.920e-09]"
     ]
    },
    {
     "name": "stdout",
     "output_type": "stream",
     "text": [
      "\n",
      "Hermiticity:"
     ]
    },
    {
     "name": "stdout",
     "output_type": "stream",
     "text": [
      "\n",
      "D=1: residues = [1.421e-14, 1.776e-15, 0.000e+00]\n",
      "D=2: residues = [2.274e-13, 1.421e-14, 1.490e-08]\n",
      "D=3: residues = [2.183e-11, 5.084e-13, 4.915e-07]\n"
     ]
    },
    {
     "name": "stdout",
     "output_type": "stream",
     "text": [
      "Positivity:\n",
      "D=1: Bool"
     ]
    },
    {
     "name": "stdout",
     "output_type": "stream",
     "text": [
      "[1, 1, 1], imaginary parts = [0.000e+00, 2.220e-16, 1.735e-18]\n",
      "D=2: Bool[1, 1, 1], imaginary parts = [-1.332e-15, -1.776e-15, 0.000e+00]\n",
      "D=3: Bool[1, 1, 1], imaginary parts = [-9.770e-15, -3.197e-14, 9.714e-17]\n",
      "Eigenfunctions:"
     ]
    },
    {
     "name": "stdout",
     "output_type": "stream",
     "text": [
      "\n",
      "D=1: "
     ]
    },
    {
     "name": "stdout",
     "output_type": "stream",
     "text": [
      "residues = [1.032e-12, 5.158e-12, 2.579e-14]\n",
      "D=2: "
     ]
    },
    {
     "name": "stdout",
     "output_type": "stream",
     "text": [
      "residues = [9.015e-12, 4.507e-11, 2.254e-13]\n",
      "D=3: "
     ]
    },
    {
     "name": "stdout",
     "output_type": "stream",
     "text": [
      "residues = [2.003e-11, 1.002e-10, 5.008e-13]\n"
     ]
    }
   ],
   "source": [
    "params = [(1,1), (20,0.1), (0.1,20)]\n",
    "\n",
    "println(\"(μ, ϵ) = \", string(params)[18:end], \"\\n\")\n",
    "test_linearity(10, params)\n",
    "test_hermiticity(10, params)\n",
    "test_positivity(10, params)\n",
    "test_eigenfunctions(10, params)"
   ]
  },
  {
   "cell_type": "markdown",
   "metadata": {},
   "source": [
    "The residues are consistently of order $10^{-6}$ or smaller for all tests. They tend to increase with the number of dimensions."
   ]
  },
  {
   "cell_type": "markdown",
   "metadata": {},
   "source": [
    "**Tests of the eigenvalue algorithms**"
   ]
  },
  {
   "cell_type": "code",
   "execution_count": 10,
   "metadata": {},
   "outputs": [
    {
     "data": {
      "text/plain": [
       "test_conjugate_gradient (generic function with 1 method)"
      ]
     },
     "metadata": {},
     "output_type": "display_data"
    }
   ],
   "source": [
    "function test_power_method(N::Int, tol::Float64, maxiters::Int; positive_multiple::Number = 1000))\n",
    "    \n",
    "    function test_engine(shape::Tuple{Vararg{Int}})\n",
    "        M = prod(shape)\n",
    "        A = randn(ComplexF64, (M,M))\n",
    "        A = A' * A + positive_multiple * I ; A = (A + A')/2\n",
    "        \n",
    "        function apply_A(v::Array)\n",
    "            @assert size(v) == shape\n",
    "            return reshape(A*reshape(v, (M,)), shape)\n",
    "        end\n",
    "        \n",
    "        λ, v, niters = power_method(shape, apply_A, tol, maxiters)\n",
    "        δ = apply_A(v) - λ*v\n",
    "        res = max(abs.(δ)...)\n",
    "\n",
    "        @printf \"residue = %.3e\" res\n",
    "        print(\", iterations = \", niters, \", Test passes: \", res <= tol)\n",
    "    end\n",
    "    \n",
    "    println(\"Power method:\")\n",
    "    print(\"D=1: \"); @time \"; runtime\" test_engine((N,))\n",
    "    print(\"D=2: \"); @time \"; runtime\" test_engine((N,N))\n",
    "    print(\"D=3: \"); @time \"; runtime\" test_engine((N,N,N)); print(\"\\n\")\n",
    "end\n",
    "\n",
    "function test_conjugate_gradient(N::Int, tol::Float64, maxiters::Int)\n",
    "    \n",
    "    function test_engine(shape::Tuple{Vararg{Int}})\n",
    "        M = prod(shape)\n",
    "        A = randn(ComplexF64, (M,M))\n",
    "        A = A' * A; A = (A + A')/2 #make A positive definite & hermitian\n",
    "        b = randn(ComplexF64, shape)\n",
    "        \n",
    "        function apply_A(v::Array)\n",
    "            @assert size(v) == shape\n",
    "            return reshape(A*reshape(v, (M,)), shape)\n",
    "        end\n",
    "        \n",
    "        x, niters = conjugate_gradient(apply_A, b, tol, maxiters)\n",
    "        δ = apply_A(x) - b\n",
    "        res = norm(δ)\n",
    "\n",
    "        @printf \"residue = %.3e\" res\n",
    "        print(\", iterations = \", niters, \", test passes: \", res <= tol*norm(b))\n",
    "    end\n",
    "\n",
    "    println(\"Conjugate Gradient:\")\n",
    "    print(\"D=1: \"); @time \"; runtime\" test_engine((N,))\n",
    "    print(\"D=2: \"); @time \"; runtime\" test_engine((N,N))\n",
    "    print(\"D=3: \"); @time \"; runtime\" test_engine((N,N,N)); print(\"\\n\")\n",
    "end"
   ]
  },
  {
   "cell_type": "code",
   "execution_count": 11,
   "metadata": {},
   "outputs": [
    {
     "name": "stdout",
     "output_type": "stream",
     "text": [
      "Power method:\n",
      "D=1: residue = 0.000e+00, iterations = 1, Test passes: true; runtime: 0.010030 seconds (304 allocations: 18.883 KiB, 91.45% compilation time)\n",
      "D=2: "
     ]
    },
    {
     "ename": "ErrorException",
     "evalue": "Maximum number of power method iterations reached",
     "output_type": "error",
     "traceback": [
      "Maximum number of power method iterations reached\n",
      "\n",
      "Stacktrace:\n",
      " [1] error(s::String)\n",
      "   @ Base ./error.jl:35\n",
      " [2] power_method(vshape::Tuple{Int64, Int64}, apply_A::var\"#apply_A#60\"{Tuple{Int64, Int64}, Int64}, tol::Float64, maxiters::Int64; init::Matrix{ComplexF64})\n",
      "   @ Main ~/Desktop/Computational Physics II/CPII_Emmy_Noether/Project2/Ground_state.jl:111\n",
      " [3] power_method\n",
      "   @ ~/Desktop/Computational Physics II/CPII_Emmy_Noether/Project2/Ground_state.jl:94 [inlined]\n",
      " [4] (::var\"#test_engine#59\"{Float64, Float64, Int64})(shape::Tuple{Int64, Int64})\n",
      "   @ Main ~/Desktop/Computational Physics II/CPII_Emmy_Noether/Project2/Test_functions.ipynb:13\n",
      " [5] macro expansion\n",
      "   @ ./timing.jl:273 [inlined]\n",
      " [6] test_power_method(N::Int64, tol::Float64, maxiters::Int64; rand::Float64)\n",
      "   @ Main ~/Desktop/Computational Physics II/CPII_Emmy_Noether/Project2/Test_functions.ipynb:23\n",
      " [7] test_power_method(N::Int64, tol::Float64, maxiters::Int64)\n",
      "   @ Main ~/Desktop/Computational Physics II/CPII_Emmy_Noether/Project2/Test_functions.ipynb:1\n",
      " [8] top-level scope\n",
      "   @ ~/Desktop/Computational Physics II/CPII_Emmy_Noether/Project2/Test_functions.ipynb:1"
     ]
    }
   ],
   "source": [
    "test_power_method(8, 1e-10, 10000)\n",
    "test_conjugate_gradient(8, 1e-10, 10000)"
   ]
  },
  {
   "cell_type": "markdown",
   "metadata": {},
   "source": [
    "The algorithms converge quickly for small $N$, but the number of iterations and the runtime increase very quickly with $N$, especially for $D=3$."
   ]
  }
 ],
 "metadata": {
  "kernelspec": {
   "display_name": "Julia 1.9.3",
   "language": "julia",
   "name": "julia-1.9"
  },
  "language_info": {
   "file_extension": ".jl",
   "mimetype": "application/julia",
   "name": "julia",
   "version": "1.9.3"
  }
 },
 "nbformat": 4,
 "nbformat_minor": 2
}
