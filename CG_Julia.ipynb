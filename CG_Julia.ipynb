{
 "cells": [
  {
   "cell_type": "code",
   "execution_count": 19,
   "metadata": {},
   "outputs": [],
   "source": [
    "using LinearAlgebra, Random"
   ]
  },
  {
   "cell_type": "code",
   "execution_count": 20,
   "metadata": {},
   "outputs": [
    {
     "data": {
      "text/plain": [
       "conjugate_gradient (generic function with 1 method)"
      ]
     },
     "metadata": {},
     "output_type": "display_data"
    }
   ],
   "source": [
    "function conjugate_gradient(apply_A,b,epsilon)\n",
    "\n",
    "    x = rand(Float64,size(b)); r = b - apply_A(x); p = r\n",
    "    niters = 0; maxiters = 1e5\n",
    "\n",
    "    while niters < maxiters\n",
    "        x = x + dot(r,r) / dot(p,apply_A(p)) * p\n",
    "        r_new = b - apply_A(x)\n",
    "        if norm(r_new) < epsilon*norm(b) break end\n",
    "        p = r_new + dot(r_new,r_new) / dot(r,r) * p\n",
    "        r = r_new \n",
    "        niters += 1\n",
    "    end\n",
    "\n",
    "    return x,niters\n",
    "end\n"
   ]
  },
  {
   "cell_type": "code",
   "execution_count": 52,
   "metadata": {},
   "outputs": [
    {
     "name": "stdout",
     "output_type": "stream",
     "text": [
      "shape = (4,)\tresidue = 6.001469524750803e-14\titerations = 3\tTest passes: true\n",
      "shape = (1, 5)\tresidue = 4.877709462517707e-13\titerations = 5\tTest passes: true\n"
     ]
    },
    {
     "name": "stdout",
     "output_type": "stream",
     "text": [
      "shape = (3, 2, 4)\tresidue = 1.7265395309899093e-8\titerations = 29\tTest passes: true\n",
      "shape = (5, 2)\tresidue = 6.148744196277302e-13\titerations = 13\tTest passes: true\n",
      "  0.211928 seconds (83.42 k allocations: 4.318 MiB, 72.90% compilation time)\n"
     ]
    }
   ],
   "source": [
    "function test_conjugate_gradient()\n",
    "\n",
    "    function test_engine(shape,epsilon)\n",
    "        \n",
    "        N = trunc(Int,prod(shape))\n",
    "        A = randn(ComplexF64, (N,N)); A = A' * A; A = (A + A')/2\n",
    "        b = randn(ComplexF64,shape)\n",
    "\n",
    "        function apply_A(v)\n",
    "            #assert isinstance(v,np.ndarray) , \"v must be an np.ndarray\"\n",
    "            #assert v.shape==shape , \"v has shape \"+str(v.shape)+\", it must have shape \"+str(shape)\n",
    "            return reshape(A * vcat(v...),shape)        \n",
    "        end\n",
    "\n",
    "        x, niters = conjugate_gradient(apply_A,b,epsilon)\n",
    "        delta = apply_A(x) - b\n",
    "        res = norm(delta)\n",
    "        println(\"shape = \" , shape , \"\\tresidue = \" , res , \"\\titerations = \" , niters , \"\\tTest passes: \" , res <= epsilon*norm(b))\n",
    "    \n",
    "    end\n",
    "\n",
    "    test_engine((4,),1.e-8)\n",
    "    test_engine((1,5),1.e-12)\n",
    "    test_engine((3,2,4),1.e-8)\n",
    "    test_engine((5,2),1.e-12)\n",
    "\n",
    "end\n",
    "\n",
    "@time test_conjugate_gradient()"
   ]
  }
 ],
 "metadata": {
  "kernelspec": {
   "display_name": "Julia 1.9.3",
   "language": "julia",
   "name": "julia-1.9"
  },
  "language_info": {
   "file_extension": ".jl",
   "mimetype": "application/julia",
   "name": "julia",
   "version": "1.9.3"
  }
 },
 "nbformat": 4,
 "nbformat_minor": 2
}
